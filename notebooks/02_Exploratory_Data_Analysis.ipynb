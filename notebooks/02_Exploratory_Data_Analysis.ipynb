{
 "cells": [
  {
   "cell_type": "code",
   "execution_count": null,
   "metadata": {
    "vscode": {
     "languageId": "plaintext"
    }
   },
   "outputs": [],
   "source": [
    "import pandas as pd\n",
    "import matplotlib.pyplot as plt\n",
    "import seaborn as sns\n",
    "\n",
    "# Load the cleaned dataset\n",
    "data = pd.read_csv('../data/cleaned_stocks.csv')\n",
    "\n",
    "# Convert 'Date' column to datetime format\n",
    "data['Date'] = pd.to_datetime(data['Date'])\n",
    "\n",
    "# Display basic statistics\n",
    "print(\"Basic Statistics:\")\n",
    "print(data.describe())\n",
    "\n",
    "# Plot closing price trends for each stock\n",
    "tickers = data['Ticker'].unique()\n",
    "plt.figure(figsize=(12, 6))\n",
    "for ticker in tickers:\n",
    "    subset = data[data['Ticker'] == ticker]\n",
    "    plt.plot(subset['Date'], subset['Close'], label=ticker)\n",
    "plt.xlabel('Date')\n",
    "plt.ylabel('Closing Price')\n",
    "plt.title('Stock Closing Price Trends')\n",
    "plt.legend()\n",
    "plt.show()\n",
    "\n",
    "# Compute and visualize correlation matrix\n",
    "correlation_matrix = data[['Open', 'High', 'Low', 'Close', 'Adj Close', 'Volume']].corr()\n",
    "plt.figure(figsize=(10, 6))\n",
    "sns.heatmap(correlation_matrix, annot=True, cmap='coolwarm', linewidths=0.5)\n",
    "plt.title(\"Correlation Matrix Heatmap\")\n",
    "plt.show()\n",
    "\n",
    "print(\"✅ EDA complete! Visualizations generated.\")\n"
   ]
  }
 ],
 "metadata": {
  "language_info": {
   "name": "python"
  }
 },
 "nbformat": 4,
 "nbformat_minor": 2
}
