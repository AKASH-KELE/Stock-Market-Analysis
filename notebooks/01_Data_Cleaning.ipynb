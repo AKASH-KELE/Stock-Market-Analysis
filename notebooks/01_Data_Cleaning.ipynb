{
 "cells": [
  {
   "cell_type": "code",
   "execution_count": null,
   "metadata": {
    "vscode": {
     "languageId": "plaintext"
    }
   },
   "outputs": [],
   "source": [
    "import pandas as pd\n",
    "\n",
    "# Load the dataset\n",
    "data = pd.read_csv('../data/stocks.csv')\n",
    "\n",
    "# Display basic info about the dataset\n",
    "print(\"Initial Data Overview:\")\n",
    "print(data.info())\n",
    "print(\"\\nFirst 5 Rows:\")\n",
    "print(data.head())\n",
    "\n",
    "# Convert 'Date' column to datetime format\n",
    "data['Date'] = pd.to_datetime(data['Date'])\n",
    "\n",
    "# Handle missing values\n",
    "data.dropna(inplace=True)  # Option 1: Remove rows with missing values\n",
    "# data.fillna(data.mean(), inplace=True)  # Option 2: Fill missing values with column mean (alternative)\n",
    "\n",
    "# Sort data by date and ticker\n",
    "data = data.sort_values(by=['Ticker', 'Date'])\n",
    "\n",
    "# Save the cleaned dataset\n",
    "data.to_csv('../data/cleaned_stocks.csv', index=False)\n",
    "\n",
    "print(\"✅ Data cleaning complete! Cleaned file saved as '../data/cleaned_stocks.csv'\")\n"
   ]
  }
 ],
 "metadata": {
  "language_info": {
   "name": "python"
  }
 },
 "nbformat": 4,
 "nbformat_minor": 2
}
