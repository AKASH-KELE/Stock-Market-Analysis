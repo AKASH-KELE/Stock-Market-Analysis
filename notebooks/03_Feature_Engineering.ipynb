{
 "cells": [
  {
   "cell_type": "code",
   "execution_count": null,
   "metadata": {
    "vscode": {
     "languageId": "plaintext"
    }
   },
   "outputs": [],
   "source": [
    "import pandas as pd\n",
    "\n",
    "# Load the cleaned dataset\n",
    "data = pd.read_csv('../data/cleaned_stocks.csv')\n",
    "\n",
    "# Convert 'Date' column to datetime format\n",
    "data['Date'] = pd.to_datetime(data['Date'])\n",
    "\n",
    "# Feature 1: Daily Returns\n",
    "data['Daily Return'] = data.groupby('Ticker')['Close'].pct_change()\n",
    "\n",
    "# Feature 2: 50-day Moving Average\n",
    "data['50_MA'] = data.groupby('Ticker')['Close'].transform(lambda x: x.rolling(window=50, min_periods=1).mean())\n",
    "\n",
    "# Feature 3: 200-day Moving Average\n",
    "data['200_MA'] = data.groupby('Ticker')['Close'].transform(lambda x: x.rolling(window=200, min_periods=1).mean())\n",
    "\n",
    "# Feature 4: Volatility (Standard Deviation of Returns over 20 days)\n",
    "data['Volatility'] = data.groupby('Ticker')['Daily Return'].transform(lambda x: x.rolling(window=20, min_periods=1).std())\n",
    "\n",
    "# Save the engineered dataset\n",
    "data.to_csv('../data/feature_engineered_stocks.csv', index=False)\n",
    "\n",
    "print(\"✅ Feature Engineering complete! New dataset saved as '../data/feature_engineered_stocks.csv'\")\n"
   ]
  }
 ],
 "metadata": {
  "language_info": {
   "name": "python"
  }
 },
 "nbformat": 4,
 "nbformat_minor": 2
}
